{
 "cells": [
  {
   "cell_type": "code",
   "execution_count": 37,
   "metadata": {
    "collapsed": true
   },
   "outputs": [],
   "source": [
    "import pandas as pd\n",
    "import numpy as np\n",
    "\n"
   ]
  },
  {
   "cell_type": "code",
   "execution_count": 39,
   "metadata": {
    "collapsed": true
   },
   "outputs": [],
   "source": [
    "PATH = '/home/test/Desktop/titanic/'\n",
    "train_path = PATH + 'train.csv'\n",
    "test_path = PATH +'test.csv'\n",
    "\n"
   ]
  },
  {
   "cell_type": "code",
   "execution_count": 40,
   "metadata": {
    "collapsed": false
   },
   "outputs": [],
   "source": [
    "train_data = pd.read_csv(train_path)\n",
    "test_data = pd.read_csv(test_path)"
   ]
  },
  {
   "cell_type": "code",
   "execution_count": 41,
   "metadata": {
    "collapsed": false
   },
   "outputs": [],
   "source": [
    "train_data = train_data.fillna(train_data.mean())\n",
    "test_data = test_data.fillna(test_data.mean())\n",
    "train_data = train_data.drop(labels = ['PassengerId','Name','Ticket','Cabin'], axis = 1)\n",
    "test_data = test_data.drop(labels = ['PassengerId','Name','Ticket','Cabin'], axis = 1)"
   ]
  },
  {
   "cell_type": "code",
   "execution_count": 42,
   "metadata": {
    "collapsed": false
   },
   "outputs": [
    {
     "name": "stdout",
     "output_type": "stream",
     "text": [
      "<bound method DataFrame.describe of      Survived  Pclass        Age  SibSp  Parch      Fare  Sex_female  \\\n",
      "0           0       3  22.000000      1      0    7.2500         0.0   \n",
      "1           1       1  38.000000      1      0   71.2833         1.0   \n",
      "2           1       3  26.000000      0      0    7.9250         1.0   \n",
      "3           1       1  35.000000      1      0   53.1000         1.0   \n",
      "4           0       3  35.000000      0      0    8.0500         0.0   \n",
      "5           0       3  29.699118      0      0    8.4583         0.0   \n",
      "6           0       1  54.000000      0      0   51.8625         0.0   \n",
      "7           0       3   2.000000      3      1   21.0750         0.0   \n",
      "8           1       3  27.000000      0      2   11.1333         1.0   \n",
      "9           1       2  14.000000      1      0   30.0708         1.0   \n",
      "10          1       3   4.000000      1      1   16.7000         1.0   \n",
      "11          1       1  58.000000      0      0   26.5500         1.0   \n",
      "12          0       3  20.000000      0      0    8.0500         0.0   \n",
      "13          0       3  39.000000      1      5   31.2750         0.0   \n",
      "14          0       3  14.000000      0      0    7.8542         1.0   \n",
      "15          1       2  55.000000      0      0   16.0000         1.0   \n",
      "16          0       3   2.000000      4      1   29.1250         0.0   \n",
      "17          1       2  29.699118      0      0   13.0000         0.0   \n",
      "18          0       3  31.000000      1      0   18.0000         1.0   \n",
      "19          1       3  29.699118      0      0    7.2250         1.0   \n",
      "20          0       2  35.000000      0      0   26.0000         0.0   \n",
      "21          1       2  34.000000      0      0   13.0000         0.0   \n",
      "22          1       3  15.000000      0      0    8.0292         1.0   \n",
      "23          1       1  28.000000      0      0   35.5000         0.0   \n",
      "24          0       3   8.000000      3      1   21.0750         1.0   \n",
      "25          1       3  38.000000      1      5   31.3875         1.0   \n",
      "26          0       3  29.699118      0      0    7.2250         0.0   \n",
      "27          0       1  19.000000      3      2  263.0000         0.0   \n",
      "28          1       3  29.699118      0      0    7.8792         1.0   \n",
      "29          0       3  29.699118      0      0    7.8958         0.0   \n",
      "..        ...     ...        ...    ...    ...       ...         ...   \n",
      "861         0       2  21.000000      1      0   11.5000         0.0   \n",
      "862         1       1  48.000000      0      0   25.9292         1.0   \n",
      "863         0       3  29.699118      8      2   69.5500         1.0   \n",
      "864         0       2  24.000000      0      0   13.0000         0.0   \n",
      "865         1       2  42.000000      0      0   13.0000         1.0   \n",
      "866         1       2  27.000000      1      0   13.8583         1.0   \n",
      "867         0       1  31.000000      0      0   50.4958         0.0   \n",
      "868         0       3  29.699118      0      0    9.5000         0.0   \n",
      "869         1       3   4.000000      1      1   11.1333         0.0   \n",
      "870         0       3  26.000000      0      0    7.8958         0.0   \n",
      "871         1       1  47.000000      1      1   52.5542         1.0   \n",
      "872         0       1  33.000000      0      0    5.0000         0.0   \n",
      "873         0       3  47.000000      0      0    9.0000         0.0   \n",
      "874         1       2  28.000000      1      0   24.0000         1.0   \n",
      "875         1       3  15.000000      0      0    7.2250         1.0   \n",
      "876         0       3  20.000000      0      0    9.8458         0.0   \n",
      "877         0       3  19.000000      0      0    7.8958         0.0   \n",
      "878         0       3  29.699118      0      0    7.8958         0.0   \n",
      "879         1       1  56.000000      0      1   83.1583         1.0   \n",
      "880         1       2  25.000000      0      1   26.0000         1.0   \n",
      "881         0       3  33.000000      0      0    7.8958         0.0   \n",
      "882         0       3  22.000000      0      0   10.5167         1.0   \n",
      "883         0       2  28.000000      0      0   10.5000         0.0   \n",
      "884         0       3  25.000000      0      0    7.0500         0.0   \n",
      "885         0       3  39.000000      0      5   29.1250         1.0   \n",
      "886         0       2  27.000000      0      0   13.0000         0.0   \n",
      "887         1       1  19.000000      0      0   30.0000         1.0   \n",
      "888         0       3  29.699118      1      2   23.4500         1.0   \n",
      "889         1       1  26.000000      0      0   30.0000         0.0   \n",
      "890         0       3  32.000000      0      0    7.7500         0.0   \n",
      "\n",
      "     Sex_male  Embarked_C  Embarked_Q  Embarked_S  \n",
      "0         1.0         0.0         0.0         1.0  \n",
      "1         0.0         1.0         0.0         0.0  \n",
      "2         0.0         0.0         0.0         1.0  \n",
      "3         0.0         0.0         0.0         1.0  \n",
      "4         1.0         0.0         0.0         1.0  \n",
      "5         1.0         0.0         1.0         0.0  \n",
      "6         1.0         0.0         0.0         1.0  \n",
      "7         1.0         0.0         0.0         1.0  \n",
      "8         0.0         0.0         0.0         1.0  \n",
      "9         0.0         1.0         0.0         0.0  \n",
      "10        0.0         0.0         0.0         1.0  \n",
      "11        0.0         0.0         0.0         1.0  \n",
      "12        1.0         0.0         0.0         1.0  \n",
      "13        1.0         0.0         0.0         1.0  \n",
      "14        0.0         0.0         0.0         1.0  \n",
      "15        0.0         0.0         0.0         1.0  \n",
      "16        1.0         0.0         1.0         0.0  \n",
      "17        1.0         0.0         0.0         1.0  \n",
      "18        0.0         0.0         0.0         1.0  \n",
      "19        0.0         1.0         0.0         0.0  \n",
      "20        1.0         0.0         0.0         1.0  \n",
      "21        1.0         0.0         0.0         1.0  \n",
      "22        0.0         0.0         1.0         0.0  \n",
      "23        1.0         0.0         0.0         1.0  \n",
      "24        0.0         0.0         0.0         1.0  \n",
      "25        0.0         0.0         0.0         1.0  \n",
      "26        1.0         1.0         0.0         0.0  \n",
      "27        1.0         0.0         0.0         1.0  \n",
      "28        0.0         0.0         1.0         0.0  \n",
      "29        1.0         0.0         0.0         1.0  \n",
      "..        ...         ...         ...         ...  \n",
      "861       1.0         0.0         0.0         1.0  \n",
      "862       0.0         0.0         0.0         1.0  \n",
      "863       0.0         0.0         0.0         1.0  \n",
      "864       1.0         0.0         0.0         1.0  \n",
      "865       0.0         0.0         0.0         1.0  \n",
      "866       0.0         1.0         0.0         0.0  \n",
      "867       1.0         0.0         0.0         1.0  \n",
      "868       1.0         0.0         0.0         1.0  \n",
      "869       1.0         0.0         0.0         1.0  \n",
      "870       1.0         0.0         0.0         1.0  \n",
      "871       0.0         0.0         0.0         1.0  \n",
      "872       1.0         0.0         0.0         1.0  \n",
      "873       1.0         0.0         0.0         1.0  \n",
      "874       0.0         1.0         0.0         0.0  \n",
      "875       0.0         1.0         0.0         0.0  \n",
      "876       1.0         0.0         0.0         1.0  \n",
      "877       1.0         0.0         0.0         1.0  \n",
      "878       1.0         0.0         0.0         1.0  \n",
      "879       0.0         1.0         0.0         0.0  \n",
      "880       0.0         0.0         0.0         1.0  \n",
      "881       1.0         0.0         0.0         1.0  \n",
      "882       0.0         0.0         0.0         1.0  \n",
      "883       1.0         0.0         0.0         1.0  \n",
      "884       1.0         0.0         0.0         1.0  \n",
      "885       0.0         0.0         1.0         0.0  \n",
      "886       1.0         0.0         0.0         1.0  \n",
      "887       0.0         0.0         0.0         1.0  \n",
      "888       0.0         0.0         0.0         1.0  \n",
      "889       1.0         1.0         0.0         0.0  \n",
      "890       1.0         0.0         1.0         0.0  \n",
      "\n",
      "[891 rows x 11 columns]>\n",
      "(891, 11)\n",
      "(418, 10)\n"
     ]
    }
   ],
   "source": [
    "train_data_dummies = pd.get_dummies(train_data)\n",
    "test_data_dummies = pd.get_dummies(test_data)\n",
    "print train_data_dummies.describe\n",
    "print train_data_dummies.shape\n",
    "print test_data_dummies.shape"
   ]
  },
  {
   "cell_type": "code",
   "execution_count": 43,
   "metadata": {
    "collapsed": false
   },
   "outputs": [
    {
     "name": "stdout",
     "output_type": "stream",
     "text": [
      "   Pclass       Age  SibSp  Parch      Fare  Sex_female  Sex_male  Embarked_C  \\\n",
      "0     1.5  0.276451  0.125    0.0  0.014151         0.0       1.0         0.0   \n",
      "1     0.5  0.477507  0.125    0.0  0.139136         1.0       0.0         1.0   \n",
      "2     1.5  0.326715  0.000    0.0  0.015469         1.0       0.0         0.0   \n",
      "3     0.5  0.439809  0.125    0.0  0.103644         1.0       0.0         0.0   \n",
      "4     1.5  0.439809  0.000    0.0  0.015713         0.0       1.0         0.0   \n",
      "\n",
      "   Embarked_Q  Embarked_S  \n",
      "0         0.0         1.0  \n",
      "1         0.0         0.0  \n",
      "2         0.0         1.0  \n",
      "3         0.0         1.0  \n",
      "4         0.0         1.0  \n",
      "   Survived\n",
      "0         0\n",
      "1         1\n",
      "2         1\n",
      "3         1\n",
      "4         0\n"
     ]
    }
   ],
   "source": [
    "train_data_X = train_data_dummies.iloc[ :, 1:]\n",
    "train_data_y = train_data_dummies.iloc[:, 0:1]\n",
    "test_data = test_data_dummies\n",
    "train_data_X = (train_data_X) /  (train_data_X.max() - train_data_X.min() )\n",
    "test_data= (test_data) / (test_data.max() - test_data.min() )\n",
    "\n",
    "print train_data_X.head(5)\n",
    "print train_data_y.head(5)"
   ]
  },
  {
   "cell_type": "code",
   "execution_count": 44,
   "metadata": {
    "collapsed": false
   },
   "outputs": [],
   "source": [
    "X = train_data_X.as_matrix()\n",
    "y = train_data_y.as_matrix()\n",
    "X_test = test_data_dummies.as_matrix()"
   ]
  },
  {
   "cell_type": "code",
   "execution_count": 45,
   "metadata": {
    "collapsed": true
   },
   "outputs": [],
   "source": [
    "\n",
    "def sigmoid( x ):\n",
    "    return  1 /(1 + np.exp(-x))"
   ]
  },
  {
   "cell_type": "code",
   "execution_count": 46,
   "metadata": {
    "collapsed": false
   },
   "outputs": [],
   "source": [
    "def LogisticRegression(X, y, alpha, iter):\n",
    "    theta = np.zeros(X.shape[1])\n",
    "    h_Theta = np.matmul(X, theta)\n",
    "    required_theta = np.zeros(X.shape[1])\n",
    "    max_log_likelihood = np.sum( np.matmul(y.T[0], np.log( sigmoid(h_Theta) )) + \n",
    "                             np.matmul(np.ones(y.shape[0]) - y.T[0], np.log(np.ones(X.shape[0])- sigmoid(h_Theta))) )\n",
    "        \n",
    "\n",
    "    for i in range(iter):\n",
    "        sig = sigmoid(h_Theta)\n",
    "        for feature in range(X.shape[1]):\n",
    "            gradient = np.sum( np.multiply((y - sig), X.T[feature]) )/ X.shape[0]\n",
    "            theta[feature] = theta[feature] + alpha*gradient\n",
    "        h_Theta = np.matmul(X, theta)\n",
    "#         print  sigmoid(h_Theta)\n",
    "#         print np.matmul(y.T[0], np.log( sigmoid(h_Theta) ) )\n",
    "        log_likelihood = np.sum( np.matmul(y.T[0], np.log( sigmoid(h_Theta) )) + \n",
    "                             np.matmul(np.ones(y.shape[0]) - y.T[0], np.log(np.ones(X.shape[0])- sigmoid(h_Theta))) )\n",
    "         print log_likelihood\n",
    "        if (log_likelihood > max_log_likelihood):\n",
    "            max_log_likelihood = log_likelihood\n",
    "            required_theta = theta\n",
    "           \n",
    "        return required_theta\n",
    "            \n",
    "\n",
    "    "
   ]
  },
  {
   "cell_type": "code",
   "execution_count": 34,
   "metadata": {
    "collapsed": false
   },
   "outputs": [
    {
     "name": "stdout",
     "output_type": "stream",
     "text": [
      "-862.288044681\n"
     ]
    }
   ],
   "source": [
    "theta = LogisticRegression(X, y, 0.01, 705)"
   ]
  },
  {
   "cell_type": "code",
   "execution_count": 35,
   "metadata": {
    "collapsed": false
   },
   "outputs": [
    {
     "data": {
      "text/plain": [
       "array([ 0.,  0.,  0.,  0.,  0.,  0.,  0.,  0.,  0.,  0.])"
      ]
     },
     "execution_count": 35,
     "metadata": {},
     "output_type": "execute_result"
    }
   ],
   "source": [
    "theta"
   ]
  },
  {
   "cell_type": "code",
   "execution_count": null,
   "metadata": {
    "collapsed": false
   },
   "outputs": [],
   "source": [
    "sigmoid(np.matmul(X, theta))\n"
   ]
  },
  {
   "cell_type": "code",
   "execution_count": 320,
   "metadata": {
    "collapsed": false
   },
   "outputs": [],
   "source": [
    "y_pred = [ 1 if x >=0.7 else 0 for x in sigmoid(np.matmul(X, theta))  ]"
   ]
  },
  {
   "cell_type": "code",
   "execution_count": 321,
   "metadata": {
    "collapsed": false
   },
   "outputs": [
    {
     "data": {
      "text/plain": [
       "113"
      ]
     },
     "execution_count": 321,
     "metadata": {},
     "output_type": "execute_result"
    }
   ],
   "source": [
    "ans = [1 if f==b else 0 for (f,b) in zip(y, y_pred)]\n",
    "sum(ans)"
   ]
  },
  {
   "cell_type": "code",
   "execution_count": 322,
   "metadata": {
    "collapsed": false
   },
   "outputs": [
    {
     "data": {
      "text/plain": [
       "array([[  2,  58],\n",
       "       [ 12, 111]])"
      ]
     },
     "execution_count": 322,
     "metadata": {},
     "output_type": "execute_result"
    }
   ],
   "source": [
    "from sklearn.metrics import confusion_matrix\n",
    "confusion_matrix(y,y_pred)"
   ]
  },
  {
   "cell_type": "code",
   "execution_count": 316,
   "metadata": {
    "collapsed": false
   },
   "outputs": [
    {
     "data": {
      "text/plain": [
       "0"
      ]
     },
     "execution_count": 316,
     "metadata": {},
     "output_type": "execute_result"
    }
   ],
   "source": []
  }
 ],
 "metadata": {
  "anaconda-cloud": {},
  "kernelspec": {
   "display_name": "Python 2",
   "language": "python",
   "name": "python2"
  },
  "language_info": {
   "codemirror_mode": {
    "name": "ipython",
    "version": 2
   },
   "file_extension": ".py",
   "mimetype": "text/x-python",
   "name": "python",
   "nbconvert_exporter": "python",
   "pygments_lexer": "ipython2",
   "version": "2.7.12"
  }
 },
 "nbformat": 4,
 "nbformat_minor": 1
}
